{
 "cells": [
  {
   "cell_type": "code",
   "execution_count": 1,
   "id": "f6a97ca5",
   "metadata": {},
   "outputs": [],
   "source": [
    "#pip install mediapipe --user"
   ]
  },
  {
   "cell_type": "code",
   "execution_count": 2,
   "id": "1aa0c4a5",
   "metadata": {},
   "outputs": [],
   "source": [
    "#!pip install mediapipe"
   ]
  },
  {
   "cell_type": "code",
   "execution_count": 3,
   "id": "ec8b098a",
   "metadata": {},
   "outputs": [],
   "source": [
    "# Create a virtual environment\n",
    "#python -m venv myenv\n",
    "\n",
    "# Activate the virtual environment (Windows)\n",
    "#myenv\\Scripts\\activate\n",
    "\n",
    "# Install mediapipe within the virtual environment\n",
    "#pip install mediapipe"
   ]
  },
  {
   "cell_type": "code",
   "execution_count": 4,
   "id": "4a36bc46",
   "metadata": {},
   "outputs": [],
   "source": [
    "# import all neccessary libraries\n",
    "\n",
    "import cv2\n",
    "import mediapipe as mp"
   ]
  },
  {
   "cell_type": "code",
   "execution_count": 5,
   "id": "f8259b8f",
   "metadata": {},
   "outputs": [],
   "source": [
    "# step 2: Identify all necessary libraries\n",
    "\n",
    "cap = cv2.VideoCapture(0)"
   ]
  },
  {
   "cell_type": "code",
   "execution_count": 6,
   "id": "1c2ea093",
   "metadata": {},
   "outputs": [],
   "source": [
    "mpHands= mp.solutions.hands\n",
    "hands = mpHands.Hands()\n",
    "mpDraw = mp.solutions.drawing_utils"
   ]
  },
  {
   "cell_type": "code",
   "execution_count": 7,
   "id": "08ef4a93",
   "metadata": {},
   "outputs": [],
   "source": [
    "# step 3: Switch on webcam\n",
    "\n",
    "while True:\n",
    "    _, img = cap.read()\n",
    "    \n",
    "    #convert image from BG to RGB\n",
    "    imgRGB = cv2.cvtColor(img, cv2.COLOR_BGR2RGB)\n",
    "    \n",
    "    #Apply mediapipe\n",
    "    results = hands.process(imgRGB)\n",
    "    \n",
    "    # print (results.multi_hand_landmarks)\n",
    "    \n",
    "    if results.multi_hand_landmarks:\n",
    "        for handLms in results.multi_hand_landmarks:\n",
    "            for id, lm in enumerate(handLms.landmark):\n",
    "                # print(id, lm)\n",
    "                \n",
    "                mpDraw.draw_landmarks(img, handLms, mpHands.HAND_CONNECTIONS)\n",
    "    \n",
    "    cv2.putText(img, \"Hand Detection Program\", (10,70), cv2.FONT_HERSHEY_PLAIN, 3, (255,255,255), 2)\n",
    "    cv2.imshow(\"Hands Detection Program\", img)\n",
    "    if cv2.waitKey(1) & 0xFF == ord(\"x\"):\n",
    "        break\n",
    "        \n",
    "# Release the capture once all the processing is done.\n",
    "cap.release()\n",
    "cv2.destroyAllWindows()"
   ]
  },
  {
   "cell_type": "code",
   "execution_count": null,
   "id": "dd8a2010",
   "metadata": {},
   "outputs": [],
   "source": []
  }
 ],
 "metadata": {
  "kernelspec": {
   "display_name": "Python 3 (ipykernel)",
   "language": "python",
   "name": "python3"
  },
  "language_info": {
   "codemirror_mode": {
    "name": "ipython",
    "version": 3
   },
   "file_extension": ".py",
   "mimetype": "text/x-python",
   "name": "python",
   "nbconvert_exporter": "python",
   "pygments_lexer": "ipython3",
   "version": "3.10.9"
  }
 },
 "nbformat": 4,
 "nbformat_minor": 5
}
